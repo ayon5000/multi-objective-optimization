{
 "cells": [
  {
   "cell_type": "code",
   "execution_count": 1,
   "metadata": {},
   "outputs": [],
   "source": [
    "import numpy as np\n",
    "from pymoo.core.problem import ElementwiseProblem"
   ]
  },
  {
   "cell_type": "markdown",
   "metadata": {},
   "source": [
    "#### Class Development"
   ]
  },
  {
   "cell_type": "code",
   "execution_count": 2,
   "metadata": {},
   "outputs": [],
   "source": [
    "class MyProblem(ElementwiseProblem):\n",
    "    def __init__(self):\n",
    "        super().__init__(n_var = 3,\n",
    "                         n_obj = 2,\n",
    "                         n_ieq_constr = 2,\n",
    "                         xl = np.array([-10,-10,-10]),\n",
    "                         xu = np.array([10,10,10]), \n",
    "                         )\n",
    "    def _evaluate(self, x, out, *args, **kwargs):\n",
    "        # x represents the array of decision variables\n",
    "        # out will collect and contain the objective functions, decision variables and constraints\n",
    "\n",
    "        # Define objective functions\n",
    "        f1 = (x[0]**2 + x[1]**2 +x[2]**2)\n",
    "        f2 = -(x[0]-1)**2 - (x[1]-1)**2 - (x[2]-1)**2\n",
    "\n",
    "        # We need to make both f1 and f2 have the same goal i.e. both min or maximize\n",
    "        # in current problem we min f1 and max f2\n",
    "        # let us change f2 to a min bojective by multiplying it by -1\n",
    "        f2 = -1*f2\n",
    "\n",
    "        # Define constraints\n",
    "        g1 = x[0] +x[1] + x[2] - 1\n",
    "        g2 = -3*x[0] + x[1] + x[2] - 4\n",
    "\n",
    "        # Store the outputs of optimization\n",
    "        out['F'] = [f1, f2]\n",
    "        out['G'] = [g1, g2]\n",
    "        \n",
    "\n",
    "        #return super()._evaluate(x, out, *args, **kwargs)\n",
    "\n",
    "problem = MyProblem()"
   ]
  },
  {
   "cell_type": "markdown",
   "metadata": {},
   "source": [
    "#### Initializing an Algorithm\n",
    "\n",
    "NSGA-II = Non-dominated Sorting Genetic Algorithm"
   ]
  },
  {
   "cell_type": "code",
   "execution_count": 3,
   "metadata": {},
   "outputs": [],
   "source": [
    "from pymoo.algorithms.moo.nsga2 import NSGA2\n",
    "from pymoo.operators.sampling.rnd import FloatRandomSampling\n",
    "from pymoo.operators.crossover.sbx import SBX # Simulated Binary Cross-over\n",
    "from pymoo.operators.mutation.pm import PM # Polynomial mutation"
   ]
  },
  {
   "cell_type": "code",
   "execution_count": 4,
   "metadata": {},
   "outputs": [],
   "source": [
    "algorithm = NSGA2(\n",
    "    pop_size=50, # hyperparameter\n",
    "    n_offsprings=10,\n",
    "    sampling=FloatRandomSampling(),\n",
    "    crossover=SBX(\n",
    "        prob_var=0.9, # there is a 90% chance that crossover will be performed\n",
    "        eta=20, # controls the spread of the crossover - high value implies larger spread i.e. potentially exploring a larger portion of the solution space\n",
    "    ),\n",
    "    mutation=PM(\n",
    "        eta=25, # controls the mutation rate i.e. higher value means smaller mutation and vice-versa - 25 is moderate value\n",
    "    ),\n",
    "    eliminate_duplicates = True, # Specifies if duplicate solutions should be eliminated or not. True = population contans unique solution\n",
    ")"
   ]
  },
  {
   "cell_type": "markdown",
   "metadata": {},
   "source": [
    "Define termination criteria i.e. when should the optimization process stop based on certain conditions.\n",
    "For example, terminating criteria could be the maximim number of generations.\n",
    "Different types termination criteria that are available in pymoo - https://pymoo.org/interface/termination.html\n",
    "\n",
    "Here we will use: Number of Generations (‘n_gen’) - number of generations / iterations can be limited."
   ]
  },
  {
   "cell_type": "code",
   "execution_count": 5,
   "metadata": {},
   "outputs": [],
   "source": [
    "from pymoo.termination import get_termination\n",
    "termination = get_termination(\"n_gen\",100) # STop after 100 iterations or generation"
   ]
  },
  {
   "cell_type": "markdown",
   "metadata": {},
   "source": [
    "##### Optimization Process"
   ]
  },
  {
   "cell_type": "code",
   "execution_count": 6,
   "metadata": {},
   "outputs": [
    {
     "name": "stdout",
     "output_type": "stream",
     "text": [
      "==========================================================================================\n",
      "n_gen  |  n_eval  | n_nds  |     cv_min    |     cv_avg    |      eps      |   indicator  \n",
      "==========================================================================================\n",
      "     1 |       50 |      1 |  0.000000E+00 |  7.0400185790 |             - |             -\n",
      "     2 |       60 |      1 |  0.000000E+00 |  3.6065063788 |  0.000000E+00 |             f\n",
      "     3 |       70 |      1 |  0.000000E+00 |  2.0100091797 |  0.000000E+00 |             f\n",
      "     4 |       80 |      1 |  0.000000E+00 |  1.1042622269 |  0.000000E+00 |             f\n",
      "     5 |       90 |      1 |  0.000000E+00 |  0.4621926217 |  4.4094253350 |         ideal\n",
      "     6 |      100 |      1 |  0.000000E+00 |  0.0353665820 |  0.000000E+00 |             f\n",
      "     7 |      110 |      1 |  0.000000E+00 |  0.000000E+00 |  0.000000E+00 |             f\n",
      "     8 |      120 |      1 |  0.000000E+00 |  0.000000E+00 |  0.000000E+00 |             f\n",
      "     9 |      130 |      1 |  0.000000E+00 |  0.000000E+00 |  4.8745946330 |         ideal\n",
      "    10 |      140 |      2 |  0.000000E+00 |  0.000000E+00 |  1.0000000000 |         ideal\n",
      "    11 |      150 |      2 |  0.000000E+00 |  0.000000E+00 |  0.000000E+00 |             f\n",
      "    12 |      160 |      2 |  0.000000E+00 |  0.000000E+00 |  0.000000E+00 |             f\n",
      "    13 |      170 |      2 |  0.000000E+00 |  0.000000E+00 |  0.000000E+00 |             f\n",
      "    14 |      180 |      2 |  0.000000E+00 |  0.000000E+00 |  0.000000E+00 |             f\n",
      "    15 |      190 |      2 |  0.000000E+00 |  0.000000E+00 |  0.000000E+00 |             f\n",
      "    16 |      200 |      2 |  0.000000E+00 |  0.000000E+00 |  0.000000E+00 |             f\n",
      "    17 |      210 |      1 |  0.000000E+00 |  0.000000E+00 |  0.4446712784 |         ideal\n",
      "    18 |      220 |      2 |  0.000000E+00 |  0.000000E+00 |  1.0000000000 |         ideal\n",
      "    19 |      230 |      4 |  0.000000E+00 |  0.000000E+00 |  0.8000412310 |         ideal\n",
      "    20 |      240 |      1 |  0.000000E+00 |  0.000000E+00 |  2.1499681602 |         ideal\n",
      "    21 |      250 |      1 |  0.000000E+00 |  0.000000E+00 |  2.5105809021 |         ideal\n",
      "    22 |      260 |      1 |  0.000000E+00 |  0.000000E+00 |  0.000000E+00 |             f\n",
      "    23 |      270 |      1 |  0.000000E+00 |  0.000000E+00 |  0.000000E+00 |             f\n",
      "    24 |      280 |      1 |  0.000000E+00 |  0.000000E+00 |  0.000000E+00 |             f\n",
      "    25 |      290 |      2 |  0.000000E+00 |  0.000000E+00 |  1.0000000000 |         ideal\n",
      "    26 |      300 |      2 |  0.000000E+00 |  0.000000E+00 |  0.000000E+00 |             f\n",
      "    27 |      310 |      2 |  0.000000E+00 |  0.000000E+00 |  0.2411595193 |         ideal\n",
      "    28 |      320 |      3 |  0.000000E+00 |  0.000000E+00 |  0.0228312923 |         ideal\n",
      "    29 |      330 |      4 |  0.000000E+00 |  0.000000E+00 |  0.0799352737 |             f\n",
      "    30 |      340 |      5 |  0.000000E+00 |  0.000000E+00 |  0.3927264575 |         ideal\n",
      "    31 |      350 |      5 |  0.000000E+00 |  0.000000E+00 |  0.0351810032 |             f\n",
      "    32 |      360 |      2 |  0.000000E+00 |  0.000000E+00 |  0.7179860832 |         ideal\n",
      "    33 |      370 |      2 |  0.000000E+00 |  0.000000E+00 |  0.000000E+00 |             f\n",
      "    34 |      380 |      3 |  0.000000E+00 |  0.000000E+00 |  0.0201777251 |         ideal\n",
      "    35 |      390 |      3 |  0.000000E+00 |  0.000000E+00 |  0.000000E+00 |             f\n",
      "    36 |      400 |      4 |  0.000000E+00 |  0.000000E+00 |  0.0271821247 |             f\n",
      "    37 |      410 |      4 |  0.000000E+00 |  0.000000E+00 |  0.0735433333 |         ideal\n",
      "    38 |      420 |      2 |  0.000000E+00 |  0.000000E+00 |  0.3413357909 |         ideal\n",
      "    39 |      430 |      3 |  0.000000E+00 |  0.000000E+00 |  0.2775464824 |         ideal\n",
      "    40 |      440 |      3 |  0.000000E+00 |  0.000000E+00 |  0.1803310649 |             f\n",
      "    41 |      450 |      4 |  0.000000E+00 |  0.000000E+00 |  0.1188832838 |             f\n",
      "    42 |      460 |      4 |  0.000000E+00 |  0.000000E+00 |  0.000000E+00 |             f\n",
      "    43 |      470 |      4 |  0.000000E+00 |  0.000000E+00 |  0.7956145589 |         ideal\n",
      "    44 |      480 |      2 |  0.000000E+00 |  0.000000E+00 |  0.0138606850 |         ideal\n",
      "    45 |      490 |      3 |  0.000000E+00 |  0.000000E+00 |  0.2814171776 |             f\n",
      "    46 |      500 |      3 |  0.000000E+00 |  0.000000E+00 |  0.000000E+00 |             f\n",
      "    47 |      510 |      4 |  0.000000E+00 |  0.000000E+00 |  0.0048117754 |             f\n",
      "    48 |      520 |      4 |  0.000000E+00 |  0.000000E+00 |  0.000000E+00 |             f\n",
      "    49 |      530 |      4 |  0.000000E+00 |  0.000000E+00 |  0.000000E+00 |             f\n",
      "    50 |      540 |      5 |  0.000000E+00 |  0.000000E+00 |  0.5395234393 |         ideal\n",
      "    51 |      550 |      5 |  0.000000E+00 |  0.000000E+00 |  0.000000E+00 |             f\n",
      "    52 |      560 |      5 |  0.000000E+00 |  0.000000E+00 |  0.0304434202 |         ideal\n",
      "    53 |      570 |      6 |  0.000000E+00 |  0.000000E+00 |  0.0612523684 |             f\n",
      "    54 |      580 |      8 |  0.000000E+00 |  0.000000E+00 |  0.0388255833 |             f\n",
      "    55 |      590 |     10 |  0.000000E+00 |  0.000000E+00 |  0.0451619542 |         ideal\n",
      "    56 |      600 |     10 |  0.000000E+00 |  0.000000E+00 |  0.000000E+00 |             f\n",
      "    57 |      610 |     11 |  0.000000E+00 |  0.000000E+00 |  0.0041740595 |             f\n",
      "    58 |      620 |     11 |  0.000000E+00 |  0.000000E+00 |  0.0306266599 |         ideal\n",
      "    59 |      630 |     11 |  0.000000E+00 |  0.000000E+00 |  0.000000E+00 |             f\n",
      "    60 |      640 |     11 |  0.000000E+00 |  0.000000E+00 |  0.000000E+00 |             f\n",
      "    61 |      650 |      9 |  0.000000E+00 |  0.000000E+00 |  0.0205695132 |             f\n",
      "    62 |      660 |     11 |  0.000000E+00 |  0.000000E+00 |  0.0188153209 |             f\n",
      "    63 |      670 |     11 |  0.000000E+00 |  0.000000E+00 |  0.000000E+00 |             f\n",
      "    64 |      680 |     11 |  0.000000E+00 |  0.000000E+00 |  0.000000E+00 |             f\n",
      "    65 |      690 |     11 |  0.000000E+00 |  0.000000E+00 |  0.0030204285 |             f\n",
      "    66 |      700 |     14 |  0.000000E+00 |  0.000000E+00 |  0.0110807490 |             f\n",
      "    67 |      710 |     16 |  0.000000E+00 |  0.000000E+00 |  0.0082563522 |         nadir\n",
      "    68 |      720 |     18 |  0.000000E+00 |  0.000000E+00 |  0.0033158975 |             f\n",
      "    69 |      730 |     20 |  0.000000E+00 |  0.000000E+00 |  0.0029678665 |             f\n",
      "    70 |      740 |     20 |  0.000000E+00 |  0.000000E+00 |  0.000000E+00 |             f\n",
      "    71 |      750 |     21 |  0.000000E+00 |  0.000000E+00 |  0.0059824914 |             f\n",
      "    72 |      760 |     22 |  0.000000E+00 |  0.000000E+00 |  0.0000908308 |             f\n",
      "    73 |      770 |     22 |  0.000000E+00 |  0.000000E+00 |  0.0062536843 |             f\n",
      "    74 |      780 |     23 |  0.000000E+00 |  0.000000E+00 |  0.0032247979 |             f\n",
      "    75 |      790 |     25 |  0.000000E+00 |  0.000000E+00 |  0.0012892471 |             f\n",
      "    76 |      800 |     22 |  0.000000E+00 |  0.000000E+00 |  0.0064996267 |             f\n",
      "    77 |      810 |     22 |  0.000000E+00 |  0.000000E+00 |  0.000000E+00 |             f\n",
      "    78 |      820 |     21 |  0.000000E+00 |  0.000000E+00 |  0.0069444890 |             f\n",
      "    79 |      830 |     24 |  0.000000E+00 |  0.000000E+00 |  0.0032193253 |         ideal\n",
      "    80 |      840 |     25 |  0.000000E+00 |  0.000000E+00 |  0.0037630263 |             f\n",
      "    81 |      850 |     27 |  0.000000E+00 |  0.000000E+00 |  0.0035567990 |             f\n",
      "    82 |      860 |     29 |  0.000000E+00 |  0.000000E+00 |  0.0114006736 |         ideal\n",
      "    83 |      870 |     30 |  0.000000E+00 |  0.000000E+00 |  0.0006993487 |             f\n",
      "    84 |      880 |     32 |  0.000000E+00 |  0.000000E+00 |  0.0049867369 |             f\n",
      "    85 |      890 |     35 |  0.000000E+00 |  0.000000E+00 |  0.0012472668 |             f\n",
      "    86 |      900 |     36 |  0.000000E+00 |  0.000000E+00 |  0.0043599066 |             f\n",
      "    87 |      910 |     36 |  0.000000E+00 |  0.000000E+00 |  0.000000E+00 |             f\n",
      "    88 |      920 |     37 |  0.000000E+00 |  0.000000E+00 |  0.0002809951 |             f\n",
      "    89 |      930 |     37 |  0.000000E+00 |  0.000000E+00 |  0.0002809951 |             f\n",
      "    90 |      940 |     39 |  0.000000E+00 |  0.000000E+00 |  0.0011983120 |             f\n",
      "    91 |      950 |     37 |  0.000000E+00 |  0.000000E+00 |  0.0042182183 |             f\n",
      "    92 |      960 |     38 |  0.000000E+00 |  0.000000E+00 |  0.0015670486 |             f\n",
      "    93 |      970 |     35 |  0.000000E+00 |  0.000000E+00 |  0.0063478713 |             f\n",
      "    94 |      980 |     37 |  0.000000E+00 |  0.000000E+00 |  0.0184901860 |         ideal\n",
      "    95 |      990 |     39 |  0.000000E+00 |  0.000000E+00 |  0.0023086427 |             f\n",
      "    96 |     1000 |     41 |  0.000000E+00 |  0.000000E+00 |  0.0051564925 |             f\n",
      "    97 |     1010 |     44 |  0.000000E+00 |  0.000000E+00 |  0.0012500093 |             f\n",
      "    98 |     1020 |     45 |  0.000000E+00 |  0.000000E+00 |  0.0023933831 |             f\n",
      "    99 |     1030 |     47 |  0.000000E+00 |  0.000000E+00 |  0.0026583712 |             f\n",
      "   100 |     1040 |     48 |  0.000000E+00 |  0.000000E+00 |  2.041543E-06 |             f\n"
     ]
    }
   ],
   "source": [
    "from pymoo.optimize import minimize\n",
    "\n",
    "res = minimize(\n",
    "    problem=problem,\n",
    "    algorithm=algorithm,\n",
    "    termination=termination, \n",
    "    seed=7, # for reproducibility\n",
    "    save_history=True,\n",
    "    verbose=True,\n",
    ")"
   ]
  },
  {
   "cell_type": "markdown",
   "metadata": {},
   "source": [
    "- n_gen = number of generations\n",
    "- n_eval = number of times the optimization algorithm has interacted with the objective & constraint functions\n",
    "- n_nds = number of non-dominated solutions (pareto solution)\n",
    "- cv_min = minimum constraint violation value (how much a solution violates a defined constraint, lower=better) among all solutions in the current generation\n",
    "- cv_avg = average constraint violation value (how much a solution violates a defined constraint, lower=better) among all solutions in the current generation\n",
    "- eps = epsilon indicator which is the metric used to assess the quality of the solution found. It measures the distance between the truepareto front and the solution obtained. Smaller values indicate better solution quality.\n",
    "- indicator = type of performance metric used to assess the quality of the solution at eah generation (to be explained further)"
   ]
  },
  {
   "cell_type": "markdown",
   "metadata": {},
   "source": [
    "##### Results and Visualization"
   ]
  },
  {
   "cell_type": "code",
   "execution_count": 10,
   "metadata": {},
   "outputs": [
    {
     "name": "stdout",
     "output_type": "stream",
     "text": [
      "(48, 3)\n"
     ]
    }
   ],
   "source": [
    "# X is the decision variable vector\n",
    "X = res.X\n",
    "print(X.shape)"
   ]
  },
  {
   "cell_type": "markdown",
   "metadata": {},
   "source": [
    "X contains an array of 3 different cloumns and 100 generations. For each column you can see x1, x2 and x3"
   ]
  },
  {
   "cell_type": "code",
   "execution_count": 9,
   "metadata": {},
   "outputs": [
    {
     "name": "stdout",
     "output_type": "stream",
     "text": [
      "[[ 0.45382909  0.31573872  0.16213091]\n",
      " [ 0.00949171  0.08698893 -0.01964132]\n",
      " [ 0.13317739  0.25112956  0.37593114]\n",
      " [ 0.12334175  0.24778024  0.37391247]\n",
      " [ 0.01508771  0.08679227 -0.01964132]\n",
      " [ 0.14028947  0.25329802  0.37595643]\n",
      " [ 0.20212229  0.09241361  0.19576763]\n",
      " [ 0.14903562  0.08829377  0.15979465]\n",
      " [ 0.44644454  0.31403931  0.16501188]\n",
      " [ 0.01316969  0.09153982  0.16305969]\n",
      " [ 0.20113289  0.25691716  0.42781328]\n",
      " [ 0.12511595  0.09727764  0.18748335]\n",
      " [ 0.00377228  0.0823999   0.16829847]\n",
      " [ 0.12546221  0.44090097  0.39121125]\n",
      " [ 0.2021486   0.26471152  0.43030333]\n",
      " [ 0.20716684  0.2471432   0.48915139]\n",
      " [ 0.20195044  0.26796143  0.43634079]\n",
      " [ 0.14789945  0.08673457  0.14690331]\n",
      " [ 0.14698561  0.32538344  0.36114895]\n",
      " [ 0.39273917  0.31576731  0.15916864]\n",
      " [ 0.13992457  0.08587299  0.01551698]\n",
      " [ 0.14897778  0.26486627  0.37121172]\n",
      " [ 0.13323523  0.07455706  0.16451408]\n",
      " [ 0.139815    0.25973757  0.37791477]\n",
      " [ 0.13301213  0.2493432   0.37620298]\n",
      " [ 0.14426843  0.14561337  0.04141844]\n",
      " [ 0.2002375   0.26796143  0.24661218]\n",
      " [ 0.03552243  0.09333386  0.07407895]\n",
      " [ 0.13737965  0.14973532  0.04155192]\n",
      " [ 0.2002187   0.09340734  0.2462367 ]\n",
      " [ 0.20214109  0.2669677   0.19614311]\n",
      " [ 0.00940187 -0.03388779 -0.01076584]\n",
      " [ 0.25853948  0.15589653  0.19576763]\n",
      " [ 0.12231462  0.44081742  0.3911946 ]\n",
      " [ 0.12547788  0.2871597   0.38748012]\n",
      " [ 0.12239181  0.26166847  0.20259466]\n",
      " [ 0.14050127  0.21071431  0.10244673]\n",
      " [ 0.20521149  0.10755815  0.19182874]\n",
      " [ 0.39140849  0.30914935  0.160225  ]\n",
      " [ 0.2002375   0.26796143  0.16304551]\n",
      " [ 0.20193882  0.26796143  0.4337593 ]\n",
      " [ 0.00387349  0.0923649  -0.00108453]\n",
      " [ 0.14734588  0.33344421  0.36133885]\n",
      " [ 0.20023031  0.09340734  0.24881819]\n",
      " [ 0.14556149  0.08435284  0.19557773]\n",
      " [ 0.20715035  0.2669677   0.19946481]\n",
      " [ 0.03461647  0.09326779  0.07102886]\n",
      " [ 0.20023043  0.09340734  0.24628569]]\n"
     ]
    }
   ],
   "source": [
    "print(X)"
   ]
  },
  {
   "cell_type": "code",
   "execution_count": 11,
   "metadata": {},
   "outputs": [
    {
     "name": "stdout",
     "output_type": "stream",
     "text": [
      "(48, 2)\n"
     ]
    }
   ],
   "source": [
    "F = res.F\n",
    "print(F.shape)"
   ]
  },
  {
   "cell_type": "markdown",
   "metadata": {},
   "source": [
    "F contains the values of the objective function for each generation"
   ]
  },
  {
   "cell_type": "code",
   "execution_count": 12,
   "metadata": {},
   "outputs": [
    {
     "name": "stdout",
     "output_type": "stream",
     "text": [
      "[[3.31938210e-01 1.46854078e+00]\n",
      " [8.04294749e-03 2.85436431e+00]\n",
      " [2.22126498e-01 1.70165031e+00]\n",
      " [2.16418770e-01 1.72634984e+00]\n",
      " [8.14631943e-03 2.84366898e+00]\n",
      " [2.25184256e-01 1.68609642e+00]\n",
      " [8.77186611e-02 2.10711160e+00]\n",
      " [5.55417376e-02 2.26129365e+00]\n",
      " [3.25162334e-01 1.47417088e+00]\n",
      " [3.51414400e-02 2.49960306e+00]\n",
      " [2.89485076e-01 1.51775839e+00]\n",
      " [6.02669466e-02 2.24051306e+00]\n",
      " [3.51283491e-02 2.52618704e+00]\n",
      " [3.63180670e-01 1.44803181e+00]\n",
      " [2.96097203e-01 1.50177030e+00]\n",
      " [3.43266944e-01 1.45634409e+00]\n",
      " [3.02980593e-01 1.49047527e+00]\n",
      " [5.09777132e-02 2.28790307e+00]\n",
      " [2.57907714e-01 1.59087172e+00]\n",
      " [2.79287705e-01 1.54393747e+00]\n",
      " [2.71938320e-02 2.54456475e+00]\n",
      " [2.30146662e-01 1.66003512e+00]\n",
      " [5.03752632e-02 2.30576253e+00]\n",
      " [2.29831408e-01 1.67489674e+00]\n",
      " [2.21392943e-01 1.70427632e+00]\n",
      " [4.37321199e-02 2.38113164e+00]\n",
      " [1.72715953e-01 1.74309373e+00]\n",
      " [1.54607423e-02 2.60959028e+00]\n",
      " [4.30203942e-02 2.38568663e+00]\n",
      " [1.09444968e-01 2.02971950e+00]\n",
      " [1.50604897e-01 1.82010108e+00]\n",
      " [1.35268068e-03 3.07185621e+00]\n",
      " [1.29471357e-01 1.90906407e+00]\n",
      " [3.62314075e-01 1.45366080e+00]\n",
      " [2.48346240e-01 1.64811083e+00]\n",
      " [1.24494742e-01 1.95118485e+00]\n",
      " [7.46364605e-02 2.16731183e+00]\n",
      " [9.04787777e-02 2.08128201e+00]\n",
      " [2.74445973e-01 1.55288030e+00]\n",
      " [1.38482225e-01 1.87599334e+00]\n",
      " [3.00729744e-01 1.49341064e+00]\n",
      " [8.54745530e-03 2.81823973e+00]\n",
      " [2.63461615e-01 1.57920374e+00]\n",
      " [1.10727600e-01 2.02581592e+00]\n",
      " [6.65541955e-02 2.21557009e+00]\n",
      " [1.53969233e-01 1.80680350e+00]\n",
      " [1.49422808e-02 2.61711603e+00]\n",
      " [1.09473799e-01 2.02962687e+00]]\n"
     ]
    }
   ],
   "source": [
    "print(F)"
   ]
  },
  {
   "cell_type": "code",
   "execution_count": 13,
   "metadata": {},
   "outputs": [
    {
     "data": {
      "text/plain": [
       "<pymoo.visualization.scatter.Scatter at 0x7fb1265ffb50>"
      ]
     },
     "execution_count": 13,
     "metadata": {},
     "output_type": "execute_result"
    },
    {
     "data": {
      "image/png": "[encoded data removed]",
      "text/plain": [
       "<Figure size 800x600 with 1 Axes>"
      ]
     },
     "metadata": {},
     "output_type": "display_data"
    }
   ],
   "source": [
    "from pymoo.visualization.scatter import Scatter\n",
    "\n",
    "plot = Scatter(title='Three variable solutions')\n",
    "plot.add(F, color='green')\n",
    "plot.show()"
   ]
  },
  {
   "cell_type": "markdown",
   "metadata": {},
   "source": [
    "At this point, we want to decide which one is the optimal solution"
   ]
  },
  {
   "cell_type": "code",
   "execution_count": null,
   "metadata": {},
   "outputs": [],
   "source": []
  }
 ],
 "metadata": {
  "kernelspec": {
   "display_name": "venv",
   "language": "python",
   "name": "python3"
  },
  "language_info": {
   "codemirror_mode": {
    "name": "ipython",
    "version": 3
   },
   "file_extension": ".py",
   "mimetype": "text/x-python",
   "name": "python",
   "nbconvert_exporter": "python",
   "pygments_lexer": "ipython3",
   "version": "3.11.9"
  }
 },
 "nbformat": 4,
 "nbformat_minor": 2
}
